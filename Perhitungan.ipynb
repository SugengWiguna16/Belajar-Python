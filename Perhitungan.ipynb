{
 "cells": [
  {
   "cell_type": "code",
   "execution_count": 1,
   "id": "898dd3f8-e945-426b-ab7e-9e9966695849",
   "metadata": {},
   "outputs": [
    {
     "name": "stdout",
     "output_type": "stream",
     "text": [
      "17800.0\n"
     ]
    }
   ],
   "source": [
    "harga_asli=20000\n",
    "harga_potongan=2000*1.1\n",
    "harga_setelah_potongan=harga_asli-harga_potongan\n",
    "print(harga_setelah_potongan)"
   ]
  },
  {
   "cell_type": "code",
   "execution_count": null,
   "id": "817e8624-98f4-423d-a740-7f53933c744e",
   "metadata": {},
   "outputs": [],
   "source": []
  }
 ],
 "metadata": {
  "kernelspec": {
   "display_name": "Python 3 (ipykernel)",
   "language": "python",
   "name": "python3"
  },
  "language_info": {
   "codemirror_mode": {
    "name": "ipython",
    "version": 3
   },
   "file_extension": ".py",
   "mimetype": "text/x-python",
   "name": "python",
   "nbconvert_exporter": "python",
   "pygments_lexer": "ipython3",
   "version": "3.7.12"
  }
 },
 "nbformat": 4,
 "nbformat_minor": 5
}
