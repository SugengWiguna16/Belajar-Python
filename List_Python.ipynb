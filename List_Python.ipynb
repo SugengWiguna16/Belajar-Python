{
 "cells": [
  {
   "cell_type": "code",
   "execution_count": 1,
   "id": "af651aa8-37be-4f4d-9774-d73f7526aa52",
   "metadata": {},
   "outputs": [
    {
     "name": "stdout",
     "output_type": "stream",
     "text": [
      "1 4.0\n",
      "4\n"
     ]
    }
   ],
   "source": [
    "list=[1, 'dua', 3, 4.0, 5]\n",
    "\n",
    "Sublist1 = list[0]\n",
    "Sublist2 = list[3]\n",
    "\n",
    "print(Sublist1, Sublist2)\n",
    "list [3] = 4\n",
    "Sublist3 = list[3]\n",
    "\n",
    "print(Sublist3)"
   ]
  },
  {
   "cell_type": "code",
   "execution_count": null,
   "id": "277beff0-ce79-4535-997c-9fed9a4124b6",
   "metadata": {},
   "outputs": [],
   "source": []
  }
 ],
 "metadata": {
  "kernelspec": {
   "display_name": "Python 3 (ipykernel)",
   "language": "python",
   "name": "python3"
  },
  "language_info": {
   "codemirror_mode": {
    "name": "ipython",
    "version": 3
   },
   "file_extension": ".py",
   "mimetype": "text/x-python",
   "name": "python",
   "nbconvert_exporter": "python",
   "pygments_lexer": "ipython3",
   "version": "3.7.12"
  }
 },
 "nbformat": 4,
 "nbformat_minor": 5
}
