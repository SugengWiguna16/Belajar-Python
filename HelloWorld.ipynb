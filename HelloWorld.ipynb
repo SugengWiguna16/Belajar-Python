{
 "cells": [
  {
   "cell_type": "code",
   "execution_count": 2,
   "id": "fab2ad95-6747-4b31-9c88-07b920a15488",
   "metadata": {},
   "outputs": [
    {
     "name": "stdout",
     "output_type": "stream",
     "text": [
      "Hello World\n",
      "Saya Senang Sekali Belajar Python\n",
      "Saya Sugeng Wiguna Mahasiswa Teknik Komputer Universitas Wiralodra\n"
     ]
    }
   ],
   "source": [
    "print(\"Hello World\")\n",
    "print(\"Saya Senang Sekali Belajar Python\")\n",
    "print(\"Saya Sugeng Wiguna Mahasiswa Teknik Komputer Universitas Wiralodra\")"
   ]
  },
  {
   "cell_type": "code",
   "execution_count": null,
   "id": "d4713f68-668c-469d-a151-e07f4439e306",
   "metadata": {},
   "outputs": [],
   "source": []
  }
 ],
 "metadata": {
  "kernelspec": {
   "display_name": "Python 3 (ipykernel)",
   "language": "python",
   "name": "python3"
  },
  "language_info": {
   "codemirror_mode": {
    "name": "ipython",
    "version": 3
   },
   "file_extension": ".py",
   "mimetype": "text/x-python",
   "name": "python",
   "nbconvert_exporter": "python",
   "pygments_lexer": "ipython3",
   "version": "3.7.12"
  }
 },
 "nbformat": 4,
 "nbformat_minor": 5
}
