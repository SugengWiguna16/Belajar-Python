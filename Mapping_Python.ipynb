{
 "cells": [
  {
   "cell_type": "code",
   "execution_count": 2,
   "id": "e5560961-6687-4d83-9c9e-6266e2a40df3",
   "metadata": {},
   "outputs": [
    {
     "name": "stdout",
     "output_type": "stream",
     "text": [
      "John Doe\n",
      "Programmer\n"
     ]
    }
   ],
   "source": [
    "orang={'nama' : 'John Doe', 'Pekerjaan' : 'Programmer'}\n",
    "print(orang['nama'])\n",
    "print(orang['Pekerjaan'])"
   ]
  },
  {
   "cell_type": "code",
   "execution_count": null,
   "id": "59857b56-9eb0-48ef-a17e-11411764a07c",
   "metadata": {},
   "outputs": [],
   "source": []
  }
 ],
 "metadata": {
  "kernelspec": {
   "display_name": "Python 3 (ipykernel)",
   "language": "python",
   "name": "python3"
  },
  "language_info": {
   "codemirror_mode": {
    "name": "ipython",
    "version": 3
   },
   "file_extension": ".py",
   "mimetype": "text/x-python",
   "name": "python",
   "nbconvert_exporter": "python",
   "pygments_lexer": "ipython3",
   "version": "3.7.12"
  }
 },
 "nbformat": 4,
 "nbformat_minor": 5
}
