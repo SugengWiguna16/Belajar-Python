{
 "cells": [
  {
   "cell_type": "code",
   "execution_count": 8,
   "id": "775a7b12-d72a-4667-ab6d-6d34d9929b07",
   "metadata": {},
   "outputs": [
    {
     "name": "stdout",
     "output_type": "stream",
     "text": [
      "Januari\n",
      "Desember\n"
     ]
    }
   ],
   "source": [
    "tuple = ('Januari', 'Februari', 'Maret', 'April')\n",
    "\n",
    "print(tuple[0])\n",
    "\n",
    "#tuple tidak dapat diubah maupun ditambah setelah proses\n",
    "tuple = 'Desember'\n",
    "print(tuple)"
   ]
  },
  {
   "cell_type": "code",
   "execution_count": null,
   "id": "7686c8c1-305d-4a6e-9f81-87a35f9d9492",
   "metadata": {},
   "outputs": [],
   "source": []
  }
 ],
 "metadata": {
  "kernelspec": {
   "display_name": "Python 3 (ipykernel)",
   "language": "python",
   "name": "python3"
  },
  "language_info": {
   "codemirror_mode": {
    "name": "ipython",
    "version": 3
   },
   "file_extension": ".py",
   "mimetype": "text/x-python",
   "name": "python",
   "nbconvert_exporter": "python",
   "pygments_lexer": "ipython3",
   "version": "3.7.12"
  }
 },
 "nbformat": 4,
 "nbformat_minor": 5
}
