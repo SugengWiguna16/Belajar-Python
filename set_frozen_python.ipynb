{
 "cells": [
  {
   "cell_type": "code",
   "execution_count": 1,
   "id": "e2b69ca3-6360-422c-b3f5-dadaa152c8cb",
   "metadata": {},
   "outputs": [
    {
     "name": "stdout",
     "output_type": "stream",
     "text": [
      "['Dewi', 'Budi', 'Cici', 'Linda', 'Cici']\n",
      "{'Dewi', 'Budi', 'Cici', 'Linda'}\n",
      "{'Dewi', 'Budi', 'Cici', 'Linda'}\n"
     ]
    }
   ],
   "source": [
    "conlist=['Dewi', 'Budi', 'Cici', 'Linda', 'Cici']\n",
    "print(conlist)\n",
    "conset={'Dewi', 'Budi', 'Cici', 'Linda', 'Cici'}\n",
    "print(conset)\n",
    "confrozenset=({'Dewi', 'Budi', 'Cici', 'Linda', 'Cici'})\n",
    "print(confrozenset)"
   ]
  },
  {
   "cell_type": "code",
   "execution_count": null,
   "id": "f622994a-c669-4480-85e2-236332d72414",
   "metadata": {},
   "outputs": [],
   "source": []
  }
 ],
 "metadata": {
  "kernelspec": {
   "display_name": "Python 3 (ipykernel)",
   "language": "python",
   "name": "python3"
  },
  "language_info": {
   "codemirror_mode": {
    "name": "ipython",
    "version": 3
   },
   "file_extension": ".py",
   "mimetype": "text/x-python",
   "name": "python",
   "nbconvert_exporter": "python",
   "pygments_lexer": "ipython3",
   "version": "3.7.12"
  }
 },
 "nbformat": 4,
 "nbformat_minor": 5
}
